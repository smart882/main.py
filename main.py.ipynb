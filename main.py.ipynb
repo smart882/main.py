{
 "cells": [
  {
   "cell_type": "code",
   "execution_count": 1,
   "id": "dbe382a5",
   "metadata": {},
   "outputs": [
    {
     "name": "stdout",
     "output_type": "stream",
     "text": [
      "True\n"
     ]
    }
   ],
   "source": [
    "ana1 = \"lame\"\n",
    "ana2 =\"mal\"\n",
    "ana1= ana1.lower()\n",
    "ana2 = ana2.lower()\n",
    "ana1_sorted = sorted(ana1)\n",
    "ana2_sorted = sorted (ana2)\n",
    "print(sorted(ana1) == sorted(ana2))\n",
    "def find_anagrams(ana1, ana2):\n",
    "    if ana1_sorted == ana2_sorted:\n",
    "        return True\n",
    "    else:\n",
    "        return False"
   ]
  },
  {
   "cell_type": "code",
   "execution_count": null,
   "id": "bad2b503",
   "metadata": {},
   "outputs": [],
   "source": []
  }
 ],
 "metadata": {
  "kernelspec": {
   "display_name": "Python 3 (ipykernel)",
   "language": "python",
   "name": "python3"
  },
  "language_info": {
   "codemirror_mode": {
    "name": "ipython",
    "version": 3
   },
   "file_extension": ".py",
   "mimetype": "text/x-python",
   "name": "python",
   "nbconvert_exporter": "python",
   "pygments_lexer": "ipython3",
   "version": "3.9.7"
  }
 },
 "nbformat": 4,
 "nbformat_minor": 5
}
