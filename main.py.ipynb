{
 "cells": [
  {
   "cell_type": "code",
   "execution_count": 1,
   "id": "a3ffe660",
   "metadata": {},
   "outputs": [
    {
     "name": "stdout",
     "output_type": "stream",
     "text": [
      "True\n"
     ]
    }
   ],
   "source": [
    "ana1 = \"lame\"\n",
    "ana2 =\"male\"\n",
    "ana1= ana1.lower()\n",
    "ana2 = ana2.lower()\n",
    "ana1_sorted = sorted(ana1)\n",
    "ana2_sorted = sorted (ana2)\n",
    "print(sorted(ana1) == sorted(ana2))\n",
    "def find_anagrams(ana1, ana2):\n",
    "    if ana1_sorted == ana2_sorted:\n",
    "        return True\n",
    "    else:\n",
    "        return False"
   ]
  },
  {
   "cell_type": "code",
   "execution_count": null,
   "id": "1fc2891c",
   "metadata": {},
   "outputs": [],
   "source": []
  }
 ],
 "metadata": {
  "kernelspec": {
   "display_name": "Python 3 (ipykernel)",
   "language": "python",
   "name": "python3"
  },
  "language_info": {
   "codemirror_mode": {
    "name": "ipython",
    "version": 3
   },
   "file_extension": ".py",
   "mimetype": "text/x-python",
   "name": "python",
   "nbconvert_exporter": "python",
   "pygments_lexer": "ipython3",
   "version": "3.9.7"
  }
 },
 "nbformat": 4,
 "nbformat_minor": 5
}
